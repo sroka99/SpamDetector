{
 "cells": [
  {
   "cell_type": "code",
   "execution_count": 6,
   "metadata": {},
   "outputs": [],
   "source": [
    "import pandas as pd\n",
    "from pathlib import Path"
   ]
  },
  {
   "cell_type": "code",
   "execution_count": 26,
   "metadata": {},
   "outputs": [
    {
     "data": {
      "text/plain": [
       "'Subject: vastar resources , inc .\\r\\ngary , production from the high island larger block a - 1 # 2 commenced on\\r\\nsaturday at 2 : 00 p . m . at about 6 , 500 gross . carlos expects between 9 , 500 and\\r\\n10 , 000 gross for tomorrow . vastar owns 68 % of the gross production .\\r\\ngeorge x 3 - 6992\\r\\n- - - - - - - - - - - - - - - - - - - - - - forwarded by george weissman / hou / ect on 12 / 13 / 99 10 : 16\\r\\nam - - - - - - - - - - - - - - - - - - - - - - - - - - -\\r\\ndaren j farmer\\r\\n12 / 10 / 99 10 : 38 am\\r\\nto : carlos j rodriguez / hou / ect @ ect\\r\\ncc : george weissman / hou / ect @ ect , melissa graves / hou / ect @ ect\\r\\nsubject : vastar resources , inc .\\r\\ncarlos ,\\r\\nplease call linda and get everything set up .\\r\\ni \\' m going to estimate 4 , 500 coming up tomorrow , with a 2 , 000 increase each\\r\\nfollowing day based on my conversations with bill fischer at bmar .\\r\\nd .\\r\\n- - - - - - - - - - - - - - - - - - - - - - forwarded by daren j farmer / hou / ect on 12 / 10 / 99 10 : 34\\r\\nam - - - - - - - - - - - - - - - - - - - - - - - - - - -\\r\\nenron north america corp .\\r\\nfrom : george weissman 12 / 10 / 99 10 : 00 am\\r\\nto : daren j farmer / hou / ect @ ect\\r\\ncc : gary bryan / hou / ect @ ect , melissa graves / hou / ect @ ect\\r\\nsubject : vastar resources , inc .\\r\\ndarren ,\\r\\nthe attached appears to be a nomination from vastar resources , inc . for the\\r\\nhigh island larger block a - 1 # 2 ( previously , erroneously referred to as the\\r\\n# 1 well ) . vastar now expects the well to commence production sometime\\r\\ntomorrow . i told linda harris that we \\' d get her a telephone number in gas\\r\\ncontrol so she can provide notification of the turn - on tomorrow . linda \\' s\\r\\nnumbers , for the record , are 281 . 584 . 3359 voice and 713 . 312 . 1689 fax .\\r\\nwould you please see that someone contacts linda and advises her how to\\r\\nsubmit future nominations via e - mail , fax or voice ? thanks .\\r\\ngeorge x 3 - 6992\\r\\n- - - - - - - - - - - - - - - - - - - - - - forwarded by george weissman / hou / ect on 12 / 10 / 99 09 : 44\\r\\nam - - - - - - - - - - - - - - - - - - - - - - - - - - -\\r\\n\" linda harris \" on 12 / 10 / 99 09 : 38 : 43 am\\r\\nto : george weissman / hou / ect @ ect\\r\\ncc :\\r\\nsubject : hi a - 1 # 2\\r\\neffective 12 - 11 - 99\\r\\n| - - - - - - - - + - - - - - - - - - - + - - - - - - - - - - - |\\r\\n| | | |\\r\\n| mscf / d | min ftp | time |\\r\\n| | | |\\r\\n| - - - - - - - - + - - - - - - - - - - + - - - - - - - - - - - |\\r\\n| | | |\\r\\n| 4 , 500 | 9 , 925 | 24 hours |\\r\\n| | | |\\r\\n| - - - - - - - - + - - - - - - - - - - + - - - - - - - - - - - |\\r\\n| | | |\\r\\n| 6 , 000 | 9 , 908 | 24 hours |\\r\\n| | | |\\r\\n| - - - - - - - - + - - - - - - - - - - + - - - - - - - - - - - |\\r\\n| | | |\\r\\n| 8 , 000 | 9 , 878 | 24 hours |\\r\\n| | | |\\r\\n| - - - - - - - - + - - - - - - - - - - + - - - - - - - - - - - |\\r\\n| | | |\\r\\n| 10 , 000 | 9 , 840 | 24 hours |\\r\\n| | | |\\r\\n| - - - - - - - - + - - - - - - - - - - + - - - - - - - - - - - |\\r\\n| | | |\\r\\n| 12 , 000 | 9 , 793 | 24 hours |\\r\\n| | | |\\r\\n| - - - - - - - - + - - - - - - - - - - + - - - - - - - - - - - |\\r\\n| | | |\\r\\n| 14 , 000 | 9 , 738 | 24 hours |\\r\\n| | | |\\r\\n| - - - - - - - - + - - - - - - - - - - + - - - - - - - - - - - |\\r\\n| | | |\\r\\n| 16 , 000 | 9 , 674 | 24 hours |\\r\\n| | | |\\r\\n| - - - - - - - - + - - - - - - - - - - + - - - - - - - - - - - |\\r\\n| | | |\\r\\n| 18 , 000 | 9 , 602 | 24 hours |\\r\\n| | | |\\r\\n| - - - - - - - - + - - - - - - - - - - + - - - - - - - - - - - |\\r\\n| | | |\\r\\n| 20 , 000 | 9 , 521 | 24 hours |\\r\\n| | | |\\r\\n| - - - - - - - - + - - - - - - - - - - + - - - - - - - - - - - |\\r\\n| | | |\\r\\n| 22 , 000 | 9 , 431 | 24 hours |\\r\\n| | | |\\r\\n| - - - - - - - - + - - - - - - - - - - + - - - - - - - - - - - |\\r\\n| | | |\\r\\n| 24 , 000 | 9 , 332 | 24 hours |\\r\\n| | | |\\r\\n| - - - - - - - - + - - - - - - - - - - + - - - - - - - - - - - |\\r\\n| | | |\\r\\n| 26 , 000 | 9 , 224 | 24 hours |\\r\\n| | | |\\r\\n| - - - - - - - - + - - - - - - - - - - + - - - - - - - - - - - |\\r\\n| | | |\\r\\n| 28 , 000 | 9 , 108 | 24 hours |\\r\\n| | | |\\r\\n| - - - - - - - - + - - - - - - - - - - + - - - - - - - - - - - |\\r\\n| | | |\\r\\n| 30 , 000 | 8 , 982 | 24 hours |\\r\\n| | | |\\r\\n| - - - - - - - - + - - - - - - - - - - + - - - - - - - - - - - |\\r\\n| | | |\\r\\n| 32 , 000 | 8 , 847 | 24 hours |\\r\\n| | | |\\r\\n| - - - - - - - - + - - - - - - - - - - + - - - - - - - - - - - |\\r\\n| | | |\\r\\n| 34 , 000 | 8 , 703 | 24 hours |\\r\\n| | | |\\r\\n| - - - - - - - - + - - - - - - - - - - + - - - - - - - - - - - |\\r\\n| | | |\\r\\n| 36 , 000 | 8 , 549 | 24 hours |\\r\\n| | | |\\r\\n| - - - - - - - - + - - - - - - - - - - + - - - - - - - - - - - |'"
      ]
     },
     "execution_count": 26,
     "metadata": {},
     "output_type": "execute_result"
    }
   ],
   "source": [
    "from pathlib import Path\n",
    "path = Path().parent.absolute()\n",
    "dataset=path.parent/'data'\n",
    "pd.read_csv(dataset/\"spam_ham_dataset.csv\",index_col=\"Unnamed: 0\")[\"text\"][1]"
   ]
  },
  {
   "cell_type": "code",
   "execution_count": null,
   "metadata": {},
   "outputs": [],
   "source": []
  }
 ],
 "metadata": {
  "kernelspec": {
   "display_name": "venvSpamDet",
   "language": "python",
   "name": "python3"
  },
  "language_info": {
   "codemirror_mode": {
    "name": "ipython",
    "version": 3
   },
   "file_extension": ".py",
   "mimetype": "text/x-python",
   "name": "python",
   "nbconvert_exporter": "python",
   "pygments_lexer": "ipython3",
   "version": "3.11.6"
  }
 },
 "nbformat": 4,
 "nbformat_minor": 2
}
